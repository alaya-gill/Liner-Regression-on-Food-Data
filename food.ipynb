{
 "cells": [
  {
   "cell_type": "code",
   "execution_count": 1,
   "metadata": {},
   "outputs": [
    {
     "data": {
      "text/html": [
       "<div>\n",
       "<style scoped>\n",
       "    .dataframe tbody tr th:only-of-type {\n",
       "        vertical-align: middle;\n",
       "    }\n",
       "\n",
       "    .dataframe tbody tr th {\n",
       "        vertical-align: top;\n",
       "    }\n",
       "\n",
       "    .dataframe thead th {\n",
       "        text-align: right;\n",
       "    }\n",
       "</style>\n",
       "<table border=\"1\" class=\"dataframe\">\n",
       "  <thead>\n",
       "    <tr style=\"text-align: right;\">\n",
       "      <th></th>\n",
       "      <th>GPA</th>\n",
       "      <th>Gender</th>\n",
       "      <th>breakfast</th>\n",
       "      <th>calories_chicken</th>\n",
       "      <th>calories_day</th>\n",
       "      <th>calories_scone</th>\n",
       "      <th>coffee</th>\n",
       "      <th>comfort_food</th>\n",
       "      <th>comfort_food_reasons</th>\n",
       "      <th>comfort_food_reasons_coded</th>\n",
       "      <th>...</th>\n",
       "      <th>soup</th>\n",
       "      <th>sports</th>\n",
       "      <th>thai_food</th>\n",
       "      <th>tortilla_calories</th>\n",
       "      <th>turkey_calories</th>\n",
       "      <th>type_sports</th>\n",
       "      <th>veggies_day</th>\n",
       "      <th>vitamins</th>\n",
       "      <th>waffle_calories</th>\n",
       "      <th>weight</th>\n",
       "    </tr>\n",
       "  </thead>\n",
       "  <tbody>\n",
       "    <tr>\n",
       "      <th>0</th>\n",
       "      <td>2.4</td>\n",
       "      <td>2</td>\n",
       "      <td>1</td>\n",
       "      <td>430</td>\n",
       "      <td>NaN</td>\n",
       "      <td>315.0</td>\n",
       "      <td>1</td>\n",
       "      <td>none</td>\n",
       "      <td>we dont have comfort</td>\n",
       "      <td>9.0</td>\n",
       "      <td>...</td>\n",
       "      <td>1.0</td>\n",
       "      <td>1.0</td>\n",
       "      <td>1</td>\n",
       "      <td>1165.0</td>\n",
       "      <td>345</td>\n",
       "      <td>car racing</td>\n",
       "      <td>5</td>\n",
       "      <td>1</td>\n",
       "      <td>1315</td>\n",
       "      <td>187</td>\n",
       "    </tr>\n",
       "    <tr>\n",
       "      <th>1</th>\n",
       "      <td>3.654</td>\n",
       "      <td>1</td>\n",
       "      <td>1</td>\n",
       "      <td>610</td>\n",
       "      <td>3.0</td>\n",
       "      <td>420.0</td>\n",
       "      <td>2</td>\n",
       "      <td>chocolate, chips, ice cream</td>\n",
       "      <td>Stress, bored, anger</td>\n",
       "      <td>1.0</td>\n",
       "      <td>...</td>\n",
       "      <td>1.0</td>\n",
       "      <td>1.0</td>\n",
       "      <td>2</td>\n",
       "      <td>725.0</td>\n",
       "      <td>690</td>\n",
       "      <td>Basketball</td>\n",
       "      <td>4</td>\n",
       "      <td>2</td>\n",
       "      <td>900</td>\n",
       "      <td>155</td>\n",
       "    </tr>\n",
       "    <tr>\n",
       "      <th>2</th>\n",
       "      <td>3.3</td>\n",
       "      <td>1</td>\n",
       "      <td>1</td>\n",
       "      <td>720</td>\n",
       "      <td>4.0</td>\n",
       "      <td>420.0</td>\n",
       "      <td>2</td>\n",
       "      <td>frozen yogurt, pizza, fast food</td>\n",
       "      <td>stress, sadness</td>\n",
       "      <td>1.0</td>\n",
       "      <td>...</td>\n",
       "      <td>1.0</td>\n",
       "      <td>2.0</td>\n",
       "      <td>5</td>\n",
       "      <td>1165.0</td>\n",
       "      <td>500</td>\n",
       "      <td>none</td>\n",
       "      <td>5</td>\n",
       "      <td>1</td>\n",
       "      <td>900</td>\n",
       "      <td>I'm not answering this.</td>\n",
       "    </tr>\n",
       "    <tr>\n",
       "      <th>3</th>\n",
       "      <td>3.2</td>\n",
       "      <td>1</td>\n",
       "      <td>1</td>\n",
       "      <td>430</td>\n",
       "      <td>3.0</td>\n",
       "      <td>420.0</td>\n",
       "      <td>2</td>\n",
       "      <td>Pizza, Mac and cheese, ice cream</td>\n",
       "      <td>Boredom</td>\n",
       "      <td>2.0</td>\n",
       "      <td>...</td>\n",
       "      <td>1.0</td>\n",
       "      <td>2.0</td>\n",
       "      <td>5</td>\n",
       "      <td>725.0</td>\n",
       "      <td>690</td>\n",
       "      <td>NaN</td>\n",
       "      <td>3</td>\n",
       "      <td>1</td>\n",
       "      <td>1315</td>\n",
       "      <td>Not sure, 240</td>\n",
       "    </tr>\n",
       "    <tr>\n",
       "      <th>4</th>\n",
       "      <td>3.5</td>\n",
       "      <td>1</td>\n",
       "      <td>1</td>\n",
       "      <td>720</td>\n",
       "      <td>2.0</td>\n",
       "      <td>420.0</td>\n",
       "      <td>2</td>\n",
       "      <td>Ice cream, chocolate, chips</td>\n",
       "      <td>Stress, boredom, cravings</td>\n",
       "      <td>1.0</td>\n",
       "      <td>...</td>\n",
       "      <td>1.0</td>\n",
       "      <td>1.0</td>\n",
       "      <td>4</td>\n",
       "      <td>940.0</td>\n",
       "      <td>500</td>\n",
       "      <td>Softball</td>\n",
       "      <td>4</td>\n",
       "      <td>2</td>\n",
       "      <td>760</td>\n",
       "      <td>190</td>\n",
       "    </tr>\n",
       "    <tr>\n",
       "      <th>...</th>\n",
       "      <td>...</td>\n",
       "      <td>...</td>\n",
       "      <td>...</td>\n",
       "      <td>...</td>\n",
       "      <td>...</td>\n",
       "      <td>...</td>\n",
       "      <td>...</td>\n",
       "      <td>...</td>\n",
       "      <td>...</td>\n",
       "      <td>...</td>\n",
       "      <td>...</td>\n",
       "      <td>...</td>\n",
       "      <td>...</td>\n",
       "      <td>...</td>\n",
       "      <td>...</td>\n",
       "      <td>...</td>\n",
       "      <td>...</td>\n",
       "      <td>...</td>\n",
       "      <td>...</td>\n",
       "      <td>...</td>\n",
       "      <td>...</td>\n",
       "    </tr>\n",
       "    <tr>\n",
       "      <th>120</th>\n",
       "      <td>3.5</td>\n",
       "      <td>1</td>\n",
       "      <td>1</td>\n",
       "      <td>610</td>\n",
       "      <td>4.0</td>\n",
       "      <td>420.0</td>\n",
       "      <td>2</td>\n",
       "      <td>wine. mac and cheese, pizza, ice cream</td>\n",
       "      <td>boredom and sadness</td>\n",
       "      <td>NaN</td>\n",
       "      <td>...</td>\n",
       "      <td>1.0</td>\n",
       "      <td>1.0</td>\n",
       "      <td>5</td>\n",
       "      <td>940.0</td>\n",
       "      <td>500</td>\n",
       "      <td>Softball</td>\n",
       "      <td>5</td>\n",
       "      <td>1</td>\n",
       "      <td>1315</td>\n",
       "      <td>156</td>\n",
       "    </tr>\n",
       "    <tr>\n",
       "      <th>121</th>\n",
       "      <td>3</td>\n",
       "      <td>1</td>\n",
       "      <td>1</td>\n",
       "      <td>265</td>\n",
       "      <td>2.0</td>\n",
       "      <td>315.0</td>\n",
       "      <td>2</td>\n",
       "      <td>Pizza / Wings / Cheesecake</td>\n",
       "      <td>Loneliness / Homesick / Sadness</td>\n",
       "      <td>NaN</td>\n",
       "      <td>...</td>\n",
       "      <td>1.0</td>\n",
       "      <td>NaN</td>\n",
       "      <td>4</td>\n",
       "      <td>940.0</td>\n",
       "      <td>500</td>\n",
       "      <td>basketball</td>\n",
       "      <td>5</td>\n",
       "      <td>2</td>\n",
       "      <td>1315</td>\n",
       "      <td>180</td>\n",
       "    </tr>\n",
       "    <tr>\n",
       "      <th>122</th>\n",
       "      <td>3.882</td>\n",
       "      <td>1</td>\n",
       "      <td>1</td>\n",
       "      <td>720</td>\n",
       "      <td>NaN</td>\n",
       "      <td>420.0</td>\n",
       "      <td>1</td>\n",
       "      <td>rice, potato, seaweed soup</td>\n",
       "      <td>sadness</td>\n",
       "      <td>NaN</td>\n",
       "      <td>...</td>\n",
       "      <td>1.0</td>\n",
       "      <td>2.0</td>\n",
       "      <td>5</td>\n",
       "      <td>580.0</td>\n",
       "      <td>690</td>\n",
       "      <td>none</td>\n",
       "      <td>4</td>\n",
       "      <td>2</td>\n",
       "      <td>1315</td>\n",
       "      <td>120</td>\n",
       "    </tr>\n",
       "    <tr>\n",
       "      <th>123</th>\n",
       "      <td>3</td>\n",
       "      <td>2</td>\n",
       "      <td>1</td>\n",
       "      <td>720</td>\n",
       "      <td>4.0</td>\n",
       "      <td>420.0</td>\n",
       "      <td>1</td>\n",
       "      <td>Mac n Cheese, Lasagna, Pizza</td>\n",
       "      <td>happiness, they are some of my favorite foods</td>\n",
       "      <td>NaN</td>\n",
       "      <td>...</td>\n",
       "      <td>2.0</td>\n",
       "      <td>2.0</td>\n",
       "      <td>1</td>\n",
       "      <td>940.0</td>\n",
       "      <td>500</td>\n",
       "      <td>NaN</td>\n",
       "      <td>3</td>\n",
       "      <td>1</td>\n",
       "      <td>1315</td>\n",
       "      <td>135</td>\n",
       "    </tr>\n",
       "    <tr>\n",
       "      <th>124</th>\n",
       "      <td>3.9</td>\n",
       "      <td>1</td>\n",
       "      <td>1</td>\n",
       "      <td>430</td>\n",
       "      <td>NaN</td>\n",
       "      <td>315.0</td>\n",
       "      <td>2</td>\n",
       "      <td>Chocolates, pizza, and Ritz.</td>\n",
       "      <td>hormones, Premenstrual syndrome.</td>\n",
       "      <td>NaN</td>\n",
       "      <td>...</td>\n",
       "      <td>1.0</td>\n",
       "      <td>2.0</td>\n",
       "      <td>2</td>\n",
       "      <td>725.0</td>\n",
       "      <td>345</td>\n",
       "      <td>NaN</td>\n",
       "      <td>4</td>\n",
       "      <td>2</td>\n",
       "      <td>575</td>\n",
       "      <td>135</td>\n",
       "    </tr>\n",
       "  </tbody>\n",
       "</table>\n",
       "<p>125 rows × 61 columns</p>\n",
       "</div>"
      ],
      "text/plain": [
       "       GPA  Gender  breakfast  calories_chicken  calories_day  calories_scone  \\\n",
       "0      2.4       2          1               430           NaN           315.0   \n",
       "1    3.654       1          1               610           3.0           420.0   \n",
       "2      3.3       1          1               720           4.0           420.0   \n",
       "3      3.2       1          1               430           3.0           420.0   \n",
       "4      3.5       1          1               720           2.0           420.0   \n",
       "..     ...     ...        ...               ...           ...             ...   \n",
       "120    3.5       1          1               610           4.0           420.0   \n",
       "121      3       1          1               265           2.0           315.0   \n",
       "122  3.882       1          1               720           NaN           420.0   \n",
       "123      3       2          1               720           4.0           420.0   \n",
       "124    3.9       1          1               430           NaN           315.0   \n",
       "\n",
       "     coffee                             comfort_food  \\\n",
       "0         1                                     none   \n",
       "1         2              chocolate, chips, ice cream   \n",
       "2         2          frozen yogurt, pizza, fast food   \n",
       "3         2         Pizza, Mac and cheese, ice cream   \n",
       "4         2             Ice cream, chocolate, chips    \n",
       "..      ...                                      ...   \n",
       "120       2  wine. mac and cheese, pizza, ice cream    \n",
       "121       2               Pizza / Wings / Cheesecake   \n",
       "122       1               rice, potato, seaweed soup   \n",
       "123       1             Mac n Cheese, Lasagna, Pizza   \n",
       "124       2             Chocolates, pizza, and Ritz.   \n",
       "\n",
       "                              comfort_food_reasons  \\\n",
       "0                            we dont have comfort    \n",
       "1                             Stress, bored, anger   \n",
       "2                                  stress, sadness   \n",
       "3                                          Boredom   \n",
       "4                       Stress, boredom, cravings    \n",
       "..                                             ...   \n",
       "120                           boredom and sadness    \n",
       "121                Loneliness / Homesick / Sadness   \n",
       "122                                        sadness   \n",
       "123  happiness, they are some of my favorite foods   \n",
       "124               hormones, Premenstrual syndrome.   \n",
       "\n",
       "     comfort_food_reasons_coded  ...  soup  sports  thai_food  \\\n",
       "0                           9.0  ...   1.0     1.0          1   \n",
       "1                           1.0  ...   1.0     1.0          2   \n",
       "2                           1.0  ...   1.0     2.0          5   \n",
       "3                           2.0  ...   1.0     2.0          5   \n",
       "4                           1.0  ...   1.0     1.0          4   \n",
       "..                          ...  ...   ...     ...        ...   \n",
       "120                         NaN  ...   1.0     1.0          5   \n",
       "121                         NaN  ...   1.0     NaN          4   \n",
       "122                         NaN  ...   1.0     2.0          5   \n",
       "123                         NaN  ...   2.0     2.0          1   \n",
       "124                         NaN  ...   1.0     2.0          2   \n",
       "\n",
       "    tortilla_calories  turkey_calories  type_sports veggies_day  vitamins  \\\n",
       "0              1165.0              345   car racing           5         1   \n",
       "1               725.0              690  Basketball            4         2   \n",
       "2              1165.0              500         none           5         1   \n",
       "3               725.0              690          NaN           3         1   \n",
       "4               940.0              500     Softball           4         2   \n",
       "..                ...              ...          ...         ...       ...   \n",
       "120             940.0              500     Softball           5         1   \n",
       "121             940.0              500  basketball            5         2   \n",
       "122             580.0              690         none           4         2   \n",
       "123             940.0              500          NaN           3         1   \n",
       "124             725.0              345          NaN           4         2   \n",
       "\n",
       "     waffle_calories                    weight  \n",
       "0               1315                       187  \n",
       "1                900                       155  \n",
       "2                900  I'm not answering this.   \n",
       "3               1315             Not sure, 240  \n",
       "4                760                       190  \n",
       "..               ...                       ...  \n",
       "120             1315                       156  \n",
       "121             1315                       180  \n",
       "122             1315                       120  \n",
       "123             1315                       135  \n",
       "124              575                       135  \n",
       "\n",
       "[125 rows x 61 columns]"
      ]
     },
     "execution_count": 1,
     "metadata": {},
     "output_type": "execute_result"
    }
   ],
   "source": [
    "import pandas as pd\n",
    "import numpy as np\n",
    "from sklearn import linear_model\n",
    "df = pd.read_csv('food_coded.csv')\n",
    "df"
   ]
  },
  {
   "cell_type": "code",
   "execution_count": 2,
   "metadata": {},
   "outputs": [
    {
     "name": "stdout",
     "output_type": "stream",
     "text": [
      "                 count unique   top freq    mean       std  min  25%  50%  \\\n",
      "GPA                123     38   3.5   13     NaN       NaN  NaN  NaN  NaN   \n",
      "Gender             125    NaN   NaN  NaN   1.392  0.490161    1    1    1   \n",
      "breakfast          125    NaN   NaN  NaN   1.112  0.316636    1    1    1   \n",
      "calories_chicken   125    NaN   NaN  NaN  577.32   131.214  265  430  610   \n",
      "calories_day       106    NaN   NaN  NaN  3.0283  0.639308    2    3    3   \n",
      "...                ...    ...   ...  ...     ...       ...  ...  ...  ...   \n",
      "type_sports        104     67  none    8     NaN       NaN  NaN  NaN  NaN   \n",
      "veggies_day        125    NaN   NaN  NaN   4.008   1.08134    1    3    4   \n",
      "vitamins           125    NaN   NaN  NaN   1.512  0.501867    1    1    2   \n",
      "waffle_calories    125    NaN   NaN  NaN  1073.4   248.667  575  900  900   \n",
      "weight             123     47   140    8     NaN       NaN  NaN  NaN  NaN   \n",
      "\n",
      "                   75%   max  \n",
      "GPA                NaN   NaN  \n",
      "Gender               2     2  \n",
      "breakfast            1     2  \n",
      "calories_chicken   720   720  \n",
      "calories_day         3     4  \n",
      "...                ...   ...  \n",
      "type_sports        NaN   NaN  \n",
      "veggies_day          5     5  \n",
      "vitamins             2     2  \n",
      "waffle_calories   1315  1315  \n",
      "weight             NaN   NaN  \n",
      "\n",
      "[61 rows x 11 columns]\n"
     ]
    }
   ],
   "source": [
    "print(df.describe(include='all').T)"
   ]
  },
  {
   "cell_type": "code",
   "execution_count": 3,
   "metadata": {},
   "outputs": [],
   "source": [
    "from pandas import read_csv\n",
    "\n",
    "df = read_csv(\"food_coded.csv\")"
   ]
  },
  {
   "cell_type": "code",
   "execution_count": 4,
   "metadata": {},
   "outputs": [
    {
     "name": "stdout",
     "output_type": "stream",
     "text": [
      "Personal \n",
      "[]\n",
      "3.79 bitch\n",
      "['3.79']\n",
      "Unknown\n",
      "[]\n"
     ]
    }
   ],
   "source": [
    "import re\n",
    "data = read_csv(\"food_coded.csv\")\n",
    "features = data.columns\n",
    "features_by_dtype = {}\n",
    "for f in features:\n",
    "    dtype = str(data[f].dtype)\n",
    "    \n",
    "    if dtype not in features_by_dtype.keys():\n",
    "        features_by_dtype[dtype] = [f]\n",
    "    else:\n",
    "        features_by_dtype[dtype] += [f]\n",
    "#print(features_by_dtype)\n",
    "        \n",
    "textual_features = features_by_dtype[\"object\"]\n",
    "numerical_features = [\"weight\",\"GPA\"]\n",
    "binary_category_features = [\"Gender\", \"vitamins\", \"sports\"]\n",
    "calories_features = [i for i in features_by_dtype[\"int64\"] if \"calories\" in i]\n",
    "calories_features += [\"calories_scone\", \"tortilla_calories\"]\n",
    "discrete_features = [i for i in features_by_dtype[\"int64\"] if (not \"calories\" in i) & (data[i].unique().size > 2) & (\"coded\" not in i)]\n",
    "discrete_features += [\"calories_day\",\"cook\",\"exercise\",\"father_education\",\"income\",\"life_rewarding\",\"mother_education\",\"persian_food\"]\n",
    "coded_features = [i for i in features_by_dtype[\"int64\"] if (not \"calories\" in i) & (data[i].unique().size > 2) & (\"coded\" in i)]\n",
    "coded_features += [\"self_perception_weight\", \"comfort_food_reasons_coded\", \"cuisine\", \"employment\", \"fav_food\", \"marital_status\",\"on_off_campus\"]\n",
    "image_questions = [\"drink\",\"soup\",\"coffee\", \"fries\", \"breakfast\"]\n",
    "\n",
    "# === === #\n",
    "\n",
    "def code(value, code_dictionary):\n",
    "    if value in code_dictionary.keys():\n",
    "        return code_dictionary[value]\n",
    "    else:\n",
    "        return value\n",
    "    \n",
    "def ordinalizer(data,feature):\n",
    "    output = {}\n",
    "    unique = sorted(data[feature].unique().tolist())\n",
    "    j = 1\n",
    "    for i in [i for i in unique if str(i) != \"nan\"]:\n",
    "        output[i] = j\n",
    "        j += 1\n",
    "    return output\n",
    "    \n",
    "def code_features_as_ordinal(data, to_be_coded):\n",
    "    for feature in to_be_coded:\n",
    "        cd = ordinalizer(data,feature)\n",
    "        data[feature] = data[feature].apply(code, code_dictionary=cd)\n",
    "def gpa(value):\n",
    "    try:\n",
    "        return float(value)\n",
    "    except:\n",
    "        print(value)\n",
    "        val=re.findall(\"\\d+\\.\\d+\", str(value))\n",
    "        print(val)\n",
    "        if not val:\n",
    "            return np.nan\n",
    "        else:\n",
    "            return float(val[0])\n",
    "        \n",
    "\n",
    "code_features_as_ordinal(data,calories_features)\n",
    "data['GPA']= data['GPA'].apply(gpa)"
   ]
  },
  {
   "cell_type": "code",
   "execution_count": 15,
   "metadata": {
    "scrolled": true
   },
   "outputs": [
    {
     "data": {
      "image/png": "[encoded data removed]",
      "text/plain": [
       "<Figure size 432x288 with 1 Axes>"
      ]
     },
     "metadata": {
      "needs_background": "light"
     },
     "output_type": "display_data"
    }
   ],
   "source": [
    "import matplotlib.pyplot as plt\n",
    "categorical_features = binary_category_features + coded_features + image_questions\n",
    "for c in categorical_features: data[c] = data[c].apply(str)\n",
    "pass\n",
    "fig = plt.figure()\n",
    "langs = data['Gender']\n",
    "plt.bar(langs,data['calories_scone'],color=['blue','green'])\n",
    "plt.show()"
   ]
  },
  {
   "cell_type": "code",
   "execution_count": 53,
   "metadata": {},
   "outputs": [
    {
     "data": {
      "image/png": "[encoded data removed]",
      "text/plain": [
       "<Figure size 432x288 with 1 Axes>"
      ]
     },
     "metadata": {
      "needs_background": "light"
     },
     "output_type": "display_data"
    }
   ],
   "source": [
    "fig = plt.figure()\n",
    "langs = data['cook']\n",
    "\n",
    "plt.bar(langs,data['calories_day'],color=['blue','green'])\n",
    "plt.show()"
   ]
  },
  {
   "cell_type": "code",
   "execution_count": 54,
   "metadata": {},
   "outputs": [
    {
     "data": {
      "image/png": "[encoded data removed]",
      "text/plain": [
       "<Figure size 432x288 with 1 Axes>"
      ]
     },
     "metadata": {
      "needs_background": "light"
     },
     "output_type": "display_data"
    }
   ],
   "source": [
    "fig = plt.figure()\n",
    "langs = data['sports']\n",
    "\n",
    "plt.bar(langs,data['calories_day'],color=['blue','green'])\n",
    "plt.show()"
   ]
  },
  {
   "cell_type": "code",
   "execution_count": 55,
   "metadata": {},
   "outputs": [
    {
     "data": {
      "image/png": "[encoded data removed]",
      "text/plain": [
       "<Figure size 432x288 with 1 Axes>"
      ]
     },
     "metadata": {
      "needs_background": "light"
     },
     "output_type": "display_data"
    }
   ],
   "source": [
    "fig = plt.figure()\n",
    "langs = data['income']\n",
    "\n",
    "plt.bar(langs,data['exercise'],color=['red'])\n",
    "plt.show()\n"
   ]
  },
  {
   "cell_type": "code",
   "execution_count": 56,
   "metadata": {},
   "outputs": [
    {
     "data": {
      "image/png": "[encoded data removed]",
      "text/plain": [
       "<Figure size 432x288 with 1 Axes>"
      ]
     },
     "metadata": {
      "needs_background": "light"
     },
     "output_type": "display_data"
    }
   ],
   "source": [
    "fig = plt.figure()\n",
    "breakfast = data['breakfast'].value_counts()\n",
    "labels = ['Oatmeal', 'Donut']\n",
    "sizes = [breakfast[0], breakfast[1]]\n",
    "colors = ['orange', 'gray']\n",
    "plt.bar(labels, sizes,color=colors)\n",
    "plt.tight_layout()\n",
    "plt.show()"
   ]
  },
  {
   "cell_type": "code",
   "execution_count": 57,
   "metadata": {},
   "outputs": [
    {
     "name": "stdout",
     "output_type": "stream",
     "text": [
      "     Gender_1  Gender_2  vitamins_1  vitamins_2  sports_1.0  sports_2.0  \\\n",
      "0           0         1           1           0           1           0   \n",
      "1           1         0           0           1           1           0   \n",
      "..        ...       ...         ...         ...         ...         ...   \n",
      "123         0         1           1           0           0           1   \n",
      "124         1         0           0           1           0           1   \n",
      "\n",
      "     sports_nan  comfort_food_reasons_coded.1_1  \\\n",
      "0             0                               0   \n",
      "1             0                               1   \n",
      "..          ...                             ...   \n",
      "123           0                               0   \n",
      "124           0                               0   \n",
      "\n",
      "     comfort_food_reasons_coded.1_2  comfort_food_reasons_coded.1_3  \\\n",
      "0                                 0                               0   \n",
      "1                                 0                               0   \n",
      "..                              ...                             ...   \n",
      "123                               0                               0   \n",
      "124                               0                               0   \n",
      "\n",
      "     comfort_food_reasons_coded.1_4  comfort_food_reasons_coded.1_5  \\\n",
      "0                                 0                               0   \n",
      "1                                 0                               0   \n",
      "..                              ...                             ...   \n",
      "123                               0                               0   \n",
      "124                               0                               1   \n",
      "\n",
      "     comfort_food_reasons_coded.1_6  comfort_food_reasons_coded.1_7  \\\n",
      "0                                 0                               0   \n",
      "1                                 0                               0   \n",
      "..                              ...                             ...   \n",
      "123                               0                               1   \n",
      "124                               0                               0   \n",
      "\n",
      "     comfort_food_reasons_coded.1_9  diet_current_coded_1  \\\n",
      "0                                 1                     1   \n",
      "1                                 0                     0   \n",
      "..                              ...                   ...   \n",
      "123                               0                     1   \n",
      "124                               0                     1   \n",
      "\n",
      "     diet_current_coded_2  diet_current_coded_3  diet_current_coded_4  \\\n",
      "0                       0                     0                     0   \n",
      "1                       1                     0                     0   \n",
      "..                    ...                   ...                   ...   \n",
      "123                     0                     0                     0   \n",
      "124                     0                     0                     0   \n",
      "\n",
      "     eating_changes_coded_1  eating_changes_coded_2  eating_changes_coded_3  \\\n",
      "0                         1                       0                       0   \n",
      "1                         1                       0                       0   \n",
      "..                      ...                     ...                     ...   \n",
      "123                       1                       0                       0   \n",
      "124                       0                       1                       0   \n",
      "\n",
      "     eating_changes_coded_4  eating_changes_coded1_1  \\\n",
      "0                         0                        1   \n",
      "1                         0                        0   \n",
      "..                      ...                      ...   \n",
      "123                       0                        0   \n",
      "124                       0                        0   \n",
      "\n",
      "     eating_changes_coded1_10  eating_changes_coded1_11  \\\n",
      "0                           0                         0   \n",
      "1                           0                         0   \n",
      "..                        ...                       ...   \n",
      "123                         0                         0   \n",
      "124                         0                         0   \n",
      "\n",
      "     eating_changes_coded1_12  eating_changes_coded1_13  \\\n",
      "0                           0                         0   \n",
      "1                           0                         0   \n",
      "..                        ...                       ...   \n",
      "123                         0                         0   \n",
      "124                         0                         0   \n",
      "\n",
      "     eating_changes_coded1_2  eating_changes_coded1_3  \\\n",
      "0                          0                        0   \n",
      "1                          1                        0   \n",
      "..                       ...                      ...   \n",
      "123                        0                        0   \n",
      "124                        0                        0   \n",
      "\n",
      "     eating_changes_coded1_4  eating_changes_coded1_5  \\\n",
      "0                          0                        0   \n",
      "1                          0                        0   \n",
      "..                       ...                      ...   \n",
      "123                        0                        0   \n",
      "124                        0                        1   \n",
      "\n",
      "     eating_changes_coded1_6  eating_changes_coded1_7  \\\n",
      "0                          0                        0   \n",
      "1                          0                        0   \n",
      "..                       ...                      ...   \n",
      "123                        0                        0   \n",
      "124                        0                        0   \n",
      "\n",
      "     eating_changes_coded1_8  eating_changes_coded1_9  fav_cuisine_coded_0  \\\n",
      "0                          0                        0                    0   \n",
      "1                          0                        0                    0   \n",
      "..                       ...                      ...                  ...   \n",
      "123                        1                        0                    0   \n",
      "124                        0                        0                    0   \n",
      "\n",
      "     fav_cuisine_coded_1  fav_cuisine_coded_2  fav_cuisine_coded_3  \\\n",
      "0                      0                    0                    1   \n",
      "1                      1                    0                    0   \n",
      "..                   ...                  ...                  ...   \n",
      "123                    1                    0                    0   \n",
      "124                    0                    1                    0   \n",
      "\n",
      "     fav_cuisine_coded_4  fav_cuisine_coded_5  fav_cuisine_coded_6  \\\n",
      "0                      0                    0                    0   \n",
      "1                      0                    0                    0   \n",
      "..                   ...                  ...                  ...   \n",
      "123                    0                    0                    0   \n",
      "124                    0                    0                    0   \n",
      "\n",
      "     fav_cuisine_coded_7  fav_cuisine_coded_8  ideal_diet_coded_1  \\\n",
      "0                      0                    0                   0   \n",
      "1                      0                    0                   0   \n",
      "..                   ...                  ...                 ...   \n",
      "123                    0                    0                   0   \n",
      "124                    0                    0                   0   \n",
      "\n",
      "     ideal_diet_coded_2  ideal_diet_coded_3  ideal_diet_coded_4  \\\n",
      "0                     0                   0                   0   \n",
      "1                     0                   1                   0   \n",
      "..                  ...                 ...                 ...   \n",
      "123                   0                   0                   0   \n",
      "124                   0                   1                   0   \n",
      "\n",
      "     ideal_diet_coded_5  ideal_diet_coded_6  ideal_diet_coded_7  \\\n",
      "0                     0                   0                   0   \n",
      "1                     0                   0                   0   \n",
      "..                  ...                 ...                 ...   \n",
      "123                   0                   1                   0   \n",
      "124                   0                   0                   0   \n",
      "\n",
      "     ideal_diet_coded_8  self_perception_weight_1.0  \\\n",
      "0                     1                           0   \n",
      "1                     0                           0   \n",
      "..                  ...                         ...   \n",
      "123                   0                           0   \n",
      "124                   0                           0   \n",
      "\n",
      "     self_perception_weight_2.0  self_perception_weight_3.0  \\\n",
      "0                             0                           1   \n",
      "1                             0                           1   \n",
      "..                          ...                         ...   \n",
      "123                           1                           0   \n",
      "124                           0                           1   \n",
      "\n",
      "     self_perception_weight_4.0  self_perception_weight_5.0  \\\n",
      "0                             0                           0   \n",
      "1                             0                           0   \n",
      "..                          ...                         ...   \n",
      "123                           0                           0   \n",
      "124                           0                           0   \n",
      "\n",
      "     self_perception_weight_6.0  self_perception_weight_nan  \\\n",
      "0                             0                           0   \n",
      "1                             0                           0   \n",
      "..                          ...                         ...   \n",
      "123                           0                           0   \n",
      "124                           0                           0   \n",
      "\n",
      "     comfort_food_reasons_coded_1.0  comfort_food_reasons_coded_2.0  \\\n",
      "0                                 0                               0   \n",
      "1                                 1                               0   \n",
      "..                              ...                             ...   \n",
      "123                               0                               0   \n",
      "124                               0                               0   \n",
      "\n",
      "     comfort_food_reasons_coded_3.0  comfort_food_reasons_coded_4.0  \\\n",
      "0                                 0                               0   \n",
      "1                                 0                               0   \n",
      "..                              ...                             ...   \n",
      "123                               0                               0   \n",
      "124                               0                               0   \n",
      "\n",
      "     comfort_food_reasons_coded_5.0  comfort_food_reasons_coded_6.0  \\\n",
      "0                                 0                               0   \n",
      "1                                 0                               0   \n",
      "..                              ...                             ...   \n",
      "123                               0                               0   \n",
      "124                               0                               0   \n",
      "\n",
      "     comfort_food_reasons_coded_7.0  comfort_food_reasons_coded_8.0  \\\n",
      "0                                 0                               0   \n",
      "1                                 0                               0   \n",
      "..                              ...                             ...   \n",
      "123                               0                               0   \n",
      "124                               0                               0   \n",
      "\n",
      "     comfort_food_reasons_coded_9.0  comfort_food_reasons_coded_nan  \\\n",
      "0                                 1                               0   \n",
      "1                                 0                               0   \n",
      "..                              ...                             ...   \n",
      "123                               0                               1   \n",
      "124                               0                               1   \n",
      "\n",
      "     cuisine_1.0  cuisine_2.0  cuisine_3.0  cuisine_4.0  cuisine_5.0  \\\n",
      "0              0            0            0            0            0   \n",
      "1              1            0            0            0            0   \n",
      "..           ...          ...          ...          ...          ...   \n",
      "123            1            0            0            0            0   \n",
      "124            0            0            1            0            0   \n",
      "\n",
      "     cuisine_6.0  cuisine_nan  employment_1.0  employment_2.0  employment_3.0  \\\n",
      "0              0            1               0               0               1   \n",
      "1              0            0               0               1               0   \n",
      "..           ...          ...             ...             ...             ...   \n",
      "123            0            0               0               1               0   \n",
      "124            0            0               0               1               0   \n",
      "\n",
      "     employment_nan  fav_food_1.0  fav_food_2.0  fav_food_3.0  fav_food_nan  \\\n",
      "0                 0             1             0             0             0   \n",
      "1                 0             1             0             0             0   \n",
      "..              ...           ...           ...           ...           ...   \n",
      "123               0             0             0             1             0   \n",
      "124               0             1             0             0             0   \n",
      "\n",
      "     marital_status_1.0  marital_status_2.0  marital_status_4.0  \\\n",
      "0                     1                   0                   0   \n",
      "1                     0                   1                   0   \n",
      "..                  ...                 ...                 ...   \n",
      "123                   1                   0                   0   \n",
      "124                   0                   1                   0   \n",
      "\n",
      "     marital_status_nan  on_off_campus_1.0  on_off_campus_2.0  \\\n",
      "0                     0                  1                  0   \n",
      "1                     0                  1                  0   \n",
      "..                  ...                ...                ...   \n",
      "123                   0                  1                  0   \n",
      "124                   0                  1                  0   \n",
      "\n",
      "     on_off_campus_3.0  on_off_campus_4.0  on_off_campus_nan  drink_1.0  \\\n",
      "0                    0                  0                  0          1   \n",
      "1                    0                  0                  0          0   \n",
      "..                 ...                ...                ...        ...   \n",
      "123                  0                  0                  0          0   \n",
      "124                  0                  0                  0          1   \n",
      "\n",
      "     drink_2.0  drink_nan  soup_1.0  soup_2.0  soup_nan  coffee_1  coffee_2  \\\n",
      "0            0          0         1         0         0         1         0   \n",
      "1            1          0         1         0         0         0         1   \n",
      "..         ...        ...       ...       ...       ...       ...       ...   \n",
      "123          1          0         0         1         0         1         0   \n",
      "124          0          0         1         0         0         0         1   \n",
      "\n",
      "     fries_1  fries_2  breakfast_1  breakfast_2  \n",
      "0          0        1            1            0  \n",
      "1          1        0            1            0  \n",
      "..       ...      ...          ...          ...  \n",
      "123        1        0            1            0  \n",
      "124        1        0            1            0  \n",
      "\n",
      "[125 rows x 106 columns]\n"
     ]
    }
   ],
   "source": [
    "from pandas import get_dummies\n",
    "one_hot_encoded_data = get_dummies(data[categorical_features])\n",
    "with pd.option_context('display.max_rows', 5, 'display.max_columns', None):  # more options can be specified also\n",
    "    print(one_hot_encoded_data)"
   ]
  },
  {
   "cell_type": "code",
   "execution_count": 58,
   "metadata": {
    "scrolled": false
   },
   "outputs": [],
   "source": [
    "target = [\"GPA\"]\n",
    "\n",
    "from pandas import concat\n",
    "x1 = one_hot_encoded_data\n",
    "x2 = data[discrete_features + calories_features + target]\n",
    "X = concat([x1,x2],1)"
   ]
  },
  {
   "cell_type": "code",
   "execution_count": 59,
   "metadata": {
    "scrolled": true
   },
   "outputs": [
    {
     "name": "stdout",
     "output_type": "stream",
     "text": [
      "0      2.400\n",
      "1      3.654\n",
      "2      3.300\n",
      "3      3.200\n",
      "4      3.500\n",
      "5      2.250\n",
      "6      3.800\n",
      "7      3.300\n",
      "8      3.300\n",
      "9      3.300\n",
      "10     3.500\n",
      "11     3.904\n",
      "12     3.400\n",
      "13     3.600\n",
      "14     3.100\n",
      "16     4.000\n",
      "17     3.600\n",
      "18     3.400\n",
      "19     2.200\n",
      "20     3.300\n",
      "21     3.870\n",
      "22     3.700\n",
      "23     3.700\n",
      "24     3.900\n",
      "25     2.800\n",
      "26     3.700\n",
      "27     3.000\n",
      "28     3.200\n",
      "29     3.500\n",
      "30     4.000\n",
      "31     4.000\n",
      "32     3.400\n",
      "33     2.800\n",
      "34     3.650\n",
      "35     3.000\n",
      "36     3.700\n",
      "37     3.400\n",
      "38     3.890\n",
      "39     3.000\n",
      "40     3.400\n",
      "41     2.900\n",
      "42     3.600\n",
      "43     3.500\n",
      "44     3.200\n",
      "45     3.605\n",
      "46     3.800\n",
      "47     2.800\n",
      "48     3.500\n",
      "49     3.830\n",
      "50     3.600\n",
      "51     3.300\n",
      "52     3.300\n",
      "53     3.292\n",
      "54     3.500\n",
      "55     3.350\n",
      "56     3.800\n",
      "57     2.800\n",
      "58     3.500\n",
      "59     3.700\n",
      "60     3.600\n",
      "62     3.900\n",
      "63     2.600\n",
      "64     3.500\n",
      "65     3.200\n",
      "66     3.000\n",
      "67     3.600\n",
      "68     3.200\n",
      "69     3.670\n",
      "70     3.730\n",
      "71     4.000\n",
      "72     3.100\n",
      "73     3.790\n",
      "74     2.710\n",
      "75     3.000\n",
      "76     3.700\n",
      "77     3.100\n",
      "78     3.000\n",
      "79     3.900\n",
      "80     3.400\n",
      "81     3.500\n",
      "82     3.700\n",
      "83     3.700\n",
      "84     3.830\n",
      "85     2.600\n",
      "86     3.000\n",
      "87     3.200\n",
      "88     3.500\n",
      "89     3.200\n",
      "90     3.680\n",
      "91     3.800\n",
      "92     3.300\n",
      "93     3.200\n",
      "94     3.750\n",
      "95     3.500\n",
      "96     3.920\n",
      "97     3.900\n",
      "98     3.900\n",
      "99     3.200\n",
      "100    3.500\n",
      "101    3.400\n",
      "103    3.700\n",
      "105    3.000\n",
      "106    3.000\n",
      "107    3.800\n",
      "108    3.800\n",
      "109    3.400\n",
      "110    3.700\n",
      "111    2.900\n",
      "112    3.900\n",
      "113    3.600\n",
      "114    2.800\n",
      "115    3.300\n",
      "116    3.400\n",
      "117    3.770\n",
      "118    3.630\n",
      "119    3.200\n",
      "120    3.500\n",
      "121    3.000\n",
      "122    3.882\n",
      "123    3.000\n",
      "124    3.900\n",
      "Name: GPA, dtype: float64\n"
     ]
    }
   ],
   "source": [
    "reg = linear_model.LinearRegression()\n",
    "\n",
    "features = [x for x in X.columns if x != target[0]]\n",
    "gpa_data = X[X[target[0]].notnull()].fillna(0)\n",
    "xx = gpa_data[features]\n",
    "yy = gpa_data[target[0]]\n",
    "with pd.option_context('display.max_rows', None, 'display.max_columns', None):  # more options can be specified also\n",
    "    print(yy)\n",
    "#reg.fit(xx,yy)"
   ]
  },
  {
   "cell_type": "code",
   "execution_count": 60,
   "metadata": {},
   "outputs": [],
   "source": [
    "from sklearn import datasets, linear_model\n",
    "from sklearn.model_selection import train_test_split\n",
    "from matplotlib import pyplot as plt"
   ]
  },
  {
   "cell_type": "code",
   "execution_count": 61,
   "metadata": {},
   "outputs": [],
   "source": [
    "X_train, X_test, y_train, y_test = train_test_split(xx,yy, test_size=0.2,shuffle=True)"
   ]
  },
  {
   "cell_type": "code",
   "execution_count": 62,
   "metadata": {},
   "outputs": [
    {
     "data": {
      "text/plain": [
       "LinearRegression(copy_X=True, fit_intercept=True, n_jobs=None, normalize=False)"
      ]
     },
     "execution_count": 62,
     "metadata": {},
     "output_type": "execute_result"
    }
   ],
   "source": [
    "reg.fit(X_train,y_train)"
   ]
  },
  {
   "cell_type": "code",
   "execution_count": 63,
   "metadata": {},
   "outputs": [
    {
     "data": {
      "text/plain": [
       "array([3.88119071, 3.40719944, 4.38079537, 3.38585959, 3.09170002,\n",
       "       2.72425621, 1.31810355, 1.76424042, 1.46327008, 1.14287231,\n",
       "       4.22177956, 3.44771526, 3.58829148, 3.79220278, 3.41146234,\n",
       "       2.46726782, 3.15549221, 2.25068473, 4.0336253 , 3.62843574,\n",
       "       2.91068609, 3.5913764 , 4.89376121, 3.672564  , 1.30860239])"
      ]
     },
     "execution_count": 63,
     "metadata": {},
     "output_type": "execute_result"
    }
   ],
   "source": [
    "predictions = reg.predict(X_test)\n",
    "predictions"
   ]
  },
  {
   "cell_type": "code",
   "execution_count": 64,
   "metadata": {},
   "outputs": [
    {
     "name": "stdout",
     "output_type": "stream",
     "text": [
      "3.3 3.881190713304922\n",
      "3.8 3.407199444406438\n",
      "3.3 4.380795365675675\n",
      "3.0 3.3858595865180328\n",
      "3.4 3.091700023800041\n",
      "3.4 2.724256205796111\n",
      "3.4 1.3181035454683765\n",
      "3.2 1.7642404195704269\n",
      "3.4 1.463270080855109\n",
      "3.83 1.1428723116113941\n",
      "3.0 4.221779562623102\n",
      "3.0 3.4477152590131257\n",
      "3.2 3.5882914753003408\n",
      "3.5 3.7922027787573525\n",
      "3.5 3.41146233525913\n",
      "2.9 2.4672678192368456\n",
      "3.68 3.1554922063897006\n",
      "3.5 2.2506847337913056\n",
      "3.7 4.033625302439535\n",
      "3.5 3.62843574076413\n",
      "3.7 2.910686093623041\n",
      "3.292 3.5913763992428334\n",
      "3.0 4.893761207370339\n",
      "3.5 3.6725640031493136\n",
      "3.1 1.3086023903219135\n"
     ]
    }
   ],
   "source": [
    "for i,j in zip(y_test,predictions):\n",
    "    print(i,j)"
   ]
  },
  {
   "cell_type": "code",
   "execution_count": 65,
   "metadata": {},
   "outputs": [
    {
     "name": "stdout",
     "output_type": "stream",
     "text": [
      "1.2541614291456333\n"
     ]
    },
    {
     "data": {
      "text/plain": [
       "<matplotlib.collections.PathCollection at 0x1aabd4fa6d0>"
      ]
     },
     "execution_count": 65,
     "metadata": {},
     "output_type": "execute_result"
    },
    {
     "data": {
      "image/png": "[encoded data removed]",
      "text/plain": [
       "<Figure size 432x288 with 1 Axes>"
      ]
     },
     "metadata": {
      "needs_background": "light"
     },
     "output_type": "display_data"
    }
   ],
   "source": [
    "from sklearn.metrics import mean_squared_error\n",
    "print(mean_squared_error(y_test,predictions))\n",
    "plt.scatter(y_test, predictions)"
   ]
  },
  {
   "cell_type": "code",
   "execution_count": 66,
   "metadata": {},
   "outputs": [],
   "source": [
    "from sklearn.ensemble import ExtraTreesRegressor"
   ]
  },
  {
   "cell_type": "code",
   "execution_count": 67,
   "metadata": {},
   "outputs": [],
   "source": [
    "model = ExtraTreesRegressor()"
   ]
  },
  {
   "cell_type": "code",
   "execution_count": 68,
   "metadata": {},
   "outputs": [
    {
     "data": {
      "text/plain": [
       "ExtraTreesRegressor(bootstrap=False, ccp_alpha=0.0, criterion='mse',\n",
       "                    max_depth=None, max_features='auto', max_leaf_nodes=None,\n",
       "                    max_samples=None, min_impurity_decrease=0.0,\n",
       "                    min_impurity_split=None, min_samples_leaf=1,\n",
       "                    min_samples_split=2, min_weight_fraction_leaf=0.0,\n",
       "                    n_estimators=100, n_jobs=None, oob_score=False,\n",
       "                    random_state=None, verbose=0, warm_start=False)"
      ]
     },
     "execution_count": 68,
     "metadata": {},
     "output_type": "execute_result"
    }
   ],
   "source": [
    "model.fit(X_train,y_train)"
   ]
  },
  {
   "cell_type": "code",
   "execution_count": 69,
   "metadata": {},
   "outputs": [
    {
     "name": "stdout",
     "output_type": "stream",
     "text": [
      "0.09200319095600014\n"
     ]
    },
    {
     "data": {
      "text/plain": [
       "<matplotlib.collections.PathCollection at 0x1aabd1da7f0>"
      ]
     },
     "execution_count": 69,
     "metadata": {},
     "output_type": "execute_result"
    },
    {
     "data": {
      "image/png": "[encoded data removed]",
      "text/plain": [
       "<Figure size 432x288 with 1 Axes>"
      ]
     },
     "metadata": {
      "needs_background": "light"
     },
     "output_type": "display_data"
    }
   ],
   "source": [
    "predictions = model.predict(X_test)\n",
    "print(mean_squared_error(y_test,predictions))\n",
    "plt.scatter(y_test, predictions)"
   ]
  },
  {
   "cell_type": "code",
   "execution_count": 70,
   "metadata": {},
   "outputs": [],
   "source": [
    "from sklearn.ensemble import GradientBoostingRegressor"
   ]
  },
  {
   "cell_type": "code",
   "execution_count": 71,
   "metadata": {},
   "outputs": [],
   "source": [
    "model = GradientBoostingRegressor()"
   ]
  },
  {
   "cell_type": "code",
   "execution_count": 72,
   "metadata": {},
   "outputs": [
    {
     "data": {
      "text/plain": [
       "GradientBoostingRegressor(alpha=0.9, ccp_alpha=0.0, criterion='friedman_mse',\n",
       "                          init=None, learning_rate=0.1, loss='ls', max_depth=3,\n",
       "                          max_features=None, max_leaf_nodes=None,\n",
       "                          min_impurity_decrease=0.0, min_impurity_split=None,\n",
       "                          min_samples_leaf=1, min_samples_split=2,\n",
       "                          min_weight_fraction_leaf=0.0, n_estimators=100,\n",
       "                          n_iter_no_change=None, presort='deprecated',\n",
       "                          random_state=None, subsample=1.0, tol=0.0001,\n",
       "                          validation_fraction=0.1, verbose=0, warm_start=False)"
      ]
     },
     "execution_count": 72,
     "metadata": {},
     "output_type": "execute_result"
    }
   ],
   "source": [
    "model.fit(X_train,y_train)"
   ]
  },
  {
   "cell_type": "code",
   "execution_count": 73,
   "metadata": {},
   "outputs": [
    {
     "data": {
      "text/plain": [
       "0.08369368675912138"
      ]
     },
     "execution_count": 73,
     "metadata": {},
     "output_type": "execute_result"
    }
   ],
   "source": [
    "predictions = model.predict(X_test)\n",
    "mean_squared_error(y_test,predictions)"
   ]
  },
  {
   "cell_type": "code",
   "execution_count": 74,
   "metadata": {},
   "outputs": [
    {
     "data": {
      "text/plain": [
       "<matplotlib.collections.PathCollection at 0x1aabd6d5fd0>"
      ]
     },
     "execution_count": 74,
     "metadata": {},
     "output_type": "execute_result"
    },
    {
     "data": {
      "image/png": "[encoded data removed]",
      "text/plain": [
       "<Figure size 432x288 with 1 Axes>"
      ]
     },
     "metadata": {
      "needs_background": "light"
     },
     "output_type": "display_data"
    }
   ],
   "source": [
    "plt.scatter(y_test, predictions)"
   ]
  },
  {
   "cell_type": "code",
   "execution_count": null,
   "metadata": {},
   "outputs": [],
   "source": []
  },
  {
   "cell_type": "code",
   "execution_count": null,
   "metadata": {},
   "outputs": [],
   "source": []
  }
 ],
 "metadata": {
  "kernelspec": {
   "display_name": "Python 3.8.1 64-bit",
   "language": "python",
   "name": "python38164bit4280aa37146c44558b29d38d2f97cf79"
  },
  "language_info": {
   "codemirror_mode": {
    "name": "ipython",
    "version": 3
   },
   "file_extension": ".py",
   "mimetype": "text/x-python",
   "name": "python",
   "nbconvert_exporter": "python",
   "pygments_lexer": "ipython3",
   "version": "3.8.1"
  }
 },
 "nbformat": 4,
 "nbformat_minor": 4
}
